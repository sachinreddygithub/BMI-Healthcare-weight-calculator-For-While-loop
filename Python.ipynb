{
  "nbformat": 4,
  "nbformat_minor": 0,
  "metadata": {
    "colab": {
      "provenance": [],
      "authorship_tag": "ABX9TyNNcvAvtjN/wG3QAqzXBtCY",
      "include_colab_link": true
    },
    "kernelspec": {
      "name": "python3",
      "display_name": "Python 3"
    },
    "language_info": {
      "name": "python"
    }
  },
  "cells": [
    {
      "cell_type": "markdown",
      "metadata": {
        "id": "view-in-github",
        "colab_type": "text"
      },
      "source": [
        "<a href=\"https://colab.research.google.com/github/sachinreddygithub/BMI-calculator/blob/main/Python.ipynb\" target=\"_parent\"><img src=\"https://colab.research.google.com/assets/colab-badge.svg\" alt=\"Open In Colab\"/></a>"
      ]
    },
    {
      "cell_type": "markdown",
      "source": [
        "# For loop"
      ],
      "metadata": {
        "id": "qy0yqxB4x8CM"
      }
    },
    {
      "cell_type": "code",
      "execution_count": null,
      "metadata": {
        "colab": {
          "base_uri": "https://localhost:8080/"
        },
        "id": "P1DP5xbuxs-S",
        "outputId": "2509f408-8aed-4dcc-9097-0a5fb6d7d19c"
      },
      "outputs": [
        {
          "output_type": "stream",
          "name": "stdout",
          "text": [
            "1\n",
            "2\n",
            "3\n",
            "4\n",
            "5\n"
          ]
        }
      ],
      "source": [
        "integers = [1,2,3,4,5]\n",
        "for number in integers:\n",
        "    print(number)"
      ]
    },
    {
      "cell_type": "code",
      "source": [
        "for number in integers:\n",
        "    print('yep!')"
      ],
      "metadata": {
        "colab": {
          "base_uri": "https://localhost:8080/"
        },
        "id": "VoWIw07NySi7",
        "outputId": "9e96ebe1-4101-48f5-e2a2-695a4d522e4b"
      },
      "execution_count": null,
      "outputs": [
        {
          "output_type": "stream",
          "name": "stdout",
          "text": [
            "yep!\n",
            "yep!\n",
            "yep!\n",
            "yep!\n",
            "yep!\n"
          ]
        }
      ]
    },
    {
      "cell_type": "code",
      "source": [
        "integers = [1,2,3,4,5]\n",
        "for Jelly in integers:\n",
        "    print(Jelly + Jelly)"
      ],
      "metadata": {
        "colab": {
          "base_uri": "https://localhost:8080/"
        },
        "id": "El6_VSK2yb9h",
        "outputId": "1f6e9250-0f80-440f-a944-a68ca77e4dd1"
      },
      "execution_count": null,
      "outputs": [
        {
          "output_type": "stream",
          "name": "stdout",
          "text": [
            "2\n",
            "4\n",
            "6\n",
            "8\n",
            "10\n"
          ]
        }
      ]
    },
    {
      "cell_type": "markdown",
      "source": [
        "Accessing only values"
      ],
      "metadata": {
        "id": "E_8HURgwyr-H"
      }
    },
    {
      "cell_type": "code",
      "source": [
        "ice_cream_dict = {'name': 'Alex Freberg', 'weekly intake': 5, 'favorite ice creams': ['MCC', 'Chocolate']}\n",
        "for cream in ice_cream_dict.values():\n",
        "    print(cream)"
      ],
      "metadata": {
        "colab": {
          "base_uri": "https://localhost:8080/"
        },
        "id": "wRJnsb7tyf24",
        "outputId": "1a1c80a1-4243-4809-8315-b4f766ad1bbb"
      },
      "execution_count": null,
      "outputs": [
        {
          "output_type": "stream",
          "name": "stdout",
          "text": [
            "Alex Freberg\n",
            "5\n",
            "['MCC', 'Chocolate']\n"
          ]
        }
      ]
    },
    {
      "cell_type": "code",
      "source": [
        "for key, value in ice_cream_dict.items():\n",
        "    print(key, '->',value)"
      ],
      "metadata": {
        "colab": {
          "base_uri": "https://localhost:8080/"
        },
        "id": "CmlB1w_1y5IO",
        "outputId": "71771708-1250-4370-dae5-a269d631f42e"
      },
      "execution_count": null,
      "outputs": [
        {
          "output_type": "stream",
          "name": "stdout",
          "text": [
            "name -> Alex Freberg\n",
            "weekly intake -> 5\n",
            "favorite ice creams -> ['MCC', 'Chocolate']\n"
          ]
        }
      ]
    },
    {
      "cell_type": "markdown",
      "source": [
        "# Nested For loop"
      ],
      "metadata": {
        "id": "p4kHcripzMPE"
      }
    },
    {
      "cell_type": "code",
      "source": [
        "flavors = ['Vanilla', 'Chocolate', 'Cookie Dough']\n",
        "toppings = ['Hot Fudge', 'Oreos', 'Marshmallows']"
      ],
      "metadata": {
        "id": "fy2waOeUzWXs"
      },
      "execution_count": null,
      "outputs": []
    },
    {
      "cell_type": "code",
      "source": [
        "for one in flavors:\n",
        "    for two in toppings:\n",
        "        print(one, 'topped with', two)"
      ],
      "metadata": {
        "colab": {
          "base_uri": "https://localhost:8080/"
        },
        "id": "xL3h4TnMzgmj",
        "outputId": "5a150382-59c4-433a-efd5-77322bcc90e0"
      },
      "execution_count": null,
      "outputs": [
        {
          "output_type": "stream",
          "name": "stdout",
          "text": [
            "Vanilla topped with Hot Fudge\n",
            "Vanilla topped with Oreos\n",
            "Vanilla topped with Marshmallows\n",
            "Chocolate topped with Hot Fudge\n",
            "Chocolate topped with Oreos\n",
            "Chocolate topped with Marshmallows\n",
            "Cookie Dough topped with Hot Fudge\n",
            "Cookie Dough topped with Oreos\n",
            "Cookie Dough topped with Marshmallows\n"
          ]
        }
      ]
    },
    {
      "cell_type": "markdown",
      "source": [
        "# While loop"
      ],
      "metadata": {
        "id": "IEOeF5xQ5UC9"
      }
    },
    {
      "cell_type": "markdown",
      "source": [
        "loops until the condition is satisfy if not exits"
      ],
      "metadata": {
        "id": "JYlcV9uA9DWD"
      }
    },
    {
      "cell_type": "code",
      "source": [
        "num = 0\n",
        "\n",
        "while num < 5:\n",
        "  print(num)\n",
        "  num = num + 1"
      ],
      "metadata": {
        "colab": {
          "base_uri": "https://localhost:8080/"
        },
        "id": "AmtyaYle8sNp",
        "outputId": "7fdba28b-69b1-46b6-ecf3-d37860a38639"
      },
      "execution_count": null,
      "outputs": [
        {
          "output_type": "stream",
          "name": "stdout",
          "text": [
            "0\n",
            "1\n",
            "2\n",
            "3\n",
            "4\n"
          ]
        }
      ]
    },
    {
      "cell_type": "markdown",
      "source": [
        "after break it will not increments(adds by one)"
      ],
      "metadata": {
        "id": "Lig1V3Qf9Xjz"
      }
    },
    {
      "cell_type": "code",
      "source": [
        "number = 0\n",
        "\n",
        "while number < 5:\n",
        "    print(number)\n",
        "    if number == 3:\n",
        "        break\n",
        "    number = number + 1"
      ],
      "metadata": {
        "colab": {
          "base_uri": "https://localhost:8080/"
        },
        "id": "05rRisMc7uMG",
        "outputId": "7406f2c5-17c8-4dff-80b8-af9ca35df432"
      },
      "execution_count": null,
      "outputs": [
        {
          "output_type": "stream",
          "name": "stdout",
          "text": [
            "0\n",
            "1\n",
            "2\n",
            "3\n"
          ]
        }
      ]
    },
    {
      "cell_type": "markdown",
      "source": [
        "Continue : when meets continue it skips the mentioned value "
      ],
      "metadata": {
        "id": "GoO8cFvC-QmU"
      }
    },
    {
      "cell_type": "code",
      "source": [
        "num = 0\n",
        "\n",
        "while num < 5:\n",
        "  num =num + 1\n",
        "  if num == 3:\n",
        "    continue\n",
        "  print(num)\n"
      ],
      "metadata": {
        "colab": {
          "base_uri": "https://localhost:8080/"
        },
        "id": "HQr5IHzZ9kT9",
        "outputId": "9cf227b9-8cac-41d2-c3a0-e6a38f4547d6"
      },
      "execution_count": null,
      "outputs": [
        {
          "output_type": "stream",
          "name": "stdout",
          "text": [
            "1\n",
            "2\n",
            "4\n",
            "5\n"
          ]
        }
      ]
    },
    {
      "cell_type": "markdown",
      "source": [
        "# **BMI  Healthcare Calculator**\n",
        "https://mercer-health.com/services/weight-management-center/bmi-calculator#:~:text=Body%20Mass%20Index%2C%20or%20BMI,inches%20x%20height%20in%20inches"
      ],
      "metadata": {
        "id": "gP6HDR5uSFdN"
      }
    },
    {
      "cell_type": "markdown",
      "source": [
        "CLICK HERE: https://drive.google.com/file/d/1YITfhAP5oqMw-mIVFF8WS6arG5Cti76c/view?usp=share_link"
      ],
      "metadata": {
        "id": "-8SuZqTKWTGp"
      }
    },
    {
      "cell_type": "code",
      "source": [
        "name = input(\"Enter your name: \")\n",
        "weight = int(input(\"Enter your weight: \"))\n",
        "height = int(input(\"Enter your height: \"))\n",
        "\n",
        "report = (weight*703)/ ( height* height)   #BMI = (weight in pounds x 703) / (height in inches x height in inches)\n",
        "print(\"report -->>\",report)\n",
        "\n",
        "if report > 0:\n",
        "  if report < 18.5:\n",
        "    print( name +\",You are Underweight\")\n",
        "  elif report <= 24.9:\n",
        "    print( name +\" ,you are Normal weight \")\n",
        "  elif report < 29.9:\n",
        "    print( name +\",you are overweight \")\n",
        "  elif report < 34.9:\n",
        "    print(name+\",you are Obese high\")\n",
        "  elif report < 39.9:\n",
        "    print( name +\",you are severely obese very high\")\n",
        "  else:\n",
        "    print(name+\",over morbidly obese exetremely high\")\n",
        "else:\n",
        "  Print(\"please enter valid input\")   \n"
      ],
      "metadata": {
        "colab": {
          "base_uri": "https://localhost:8080/"
        },
        "id": "DBwgX-xxWRML",
        "outputId": "16369c73-4cc4-41be-b705-790c06faa72f"
      },
      "execution_count": null,
      "outputs": [
        {
          "output_type": "stream",
          "name": "stdout",
          "text": [
            "Enter your name: sac\n",
            "Enter your weight: 80\n",
            "Enter your height: 62\n",
            "report -->> 14.630593132154006\n",
            "sac,You are Underweight\n"
          ]
        }
      ]
    },
    {
      "cell_type": "markdown",
      "source": [
        "# condition to be applied while creating calculator"
      ],
      "metadata": {
        "id": "8vgy363fdHKa"
      }
    },
    {
      "cell_type": "code",
      "source": [
        "'''Under 18.5\tUnderweight\tMinimal\n",
        "18.5 - 24.9\tNormal Weight\tMinimal\n",
        "25 - 29.9\tOverweight\tIncreased\n",
        "30 - 34.9\tObese\tHigh\n",
        "35 - 39.9\tSeverely Obese\tVery High\n",
        "40 and over\tMorbidly Obese\tExtremely High'''"
      ],
      "metadata": {
        "id": "ZuYOLaNgYPiq"
      },
      "execution_count": null,
      "outputs": []
    }
  ]
}